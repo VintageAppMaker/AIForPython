{
  "nbformat": 4,
  "nbformat_minor": 0,
  "metadata": {
    "colab": {
      "provenance": [],
      "toc_visible": true
    },
    "kernelspec": {
      "name": "python3",
      "display_name": "Python 3"
    },
    "language_info": {
      "name": "python"
    }
  },
  "cells": [
    {
      "cell_type": "markdown",
      "metadata": {
        "id": "HYIVoNgTX_0O"
      },
      "source": [
        "# 웹스크래핑\n",
        "> 초간단 예제를 통해 사용법을 배운다. \n",
        "\n",
        "- [ChatGPT Thread](https://chat.openai.com/share/a7ecbddd-a5d9-4f7d-8190-7f16a4e7f368) "
      ]
    },
    {
      "cell_type": "markdown",
      "metadata": {
        "id": "EYH_XzeicQIF"
      },
      "source": [
        "\n",
        "초간단 예제(예상결과는 실패)"
      ]
    },
    {
      "cell_type": "code",
      "execution_count": null,
      "metadata": {
        "id": "MDPA4CJHHYlH"
      },
      "outputs": [],
      "source": [
        "import requests\n",
        "from bs4 import BeautifulSoup\n",
        "\n",
        "# 네이버 뉴스 페이지 가져오기\n",
        "url = \"https://news.naver.com\"\n",
        "response = requests.get(url)\n",
        "html_content = response.text\n",
        "\n",
        "# BeautifulSoup을 사용하여 HTML 파싱\n",
        "soup = BeautifulSoup(html_content, \"html.parser\")\n",
        "\n",
        "# 오늘의 뉴스 기사 목록 추출\n",
        "news_list = soup.find_all(\"div\", class_=\"cjs_t\")\n",
        "\n",
        "# 기사 제목 출력\n",
        "for news in news_list:\n",
        "    title = news.text.strip()\n",
        "    print(title)"
      ]
    },
    {
      "cell_type": "markdown",
      "metadata": {
        "id": "IxAQoCkLd6dN"
      },
      "source": [
        "아래소스는 ChatGPT가 생성한 소스를 버그수정하여 만든 것임. attribute의 값을 가져오는 코드를 적용함."
      ]
    },
    {
      "cell_type": "code",
      "execution_count": null,
      "metadata": {
        "id": "H6pMyH7Eca_l"
      },
      "outputs": [],
      "source": [
        "import requests\n",
        "from bs4 import BeautifulSoup\n",
        "\n",
        "# 네이버 뉴스 페이지 가져오기\n",
        "url = \"https://news.naver.com\"\n",
        "response = requests.get(url)\n",
        "html_content = response.text\n",
        "\n",
        "# BeautifulSoup을 사용하여 HTML 파싱\n",
        "soup = BeautifulSoup(html_content, \"html.parser\")\n",
        "\n",
        "# <div class=\"cjs_journal_wrap _item_contents\">를 find_all()로 찾기\n",
        "journal_wraps = soup.find_all(\"div\", class_=\"cjs_journal_wrap _item_contents\")\n",
        "\n",
        "# 하위 아이템에서 a tag와 div tag 찾기\n",
        "for journal_wrap in journal_wraps:\n",
        "    a_tags = journal_wrap.find_all(\"a\", class_=\"cjs_news_a _cds_link _editn_link\")\n",
        "    div_tags = journal_wrap.find_all(\"div\", class_=\"cjs_t\")\n",
        "    \n",
        "    # a tag 출력\n",
        "    for a_tag in a_tags:\n",
        "        print(\"a tag:\", a_tag.attrs['href'])\n",
        "    \n",
        "    # div tag 출력\n",
        "    for div_tag in div_tags:\n",
        "        print(\"div tag:\", div_tag.text)"
      ]
    },
    {
      "cell_type": "markdown",
      "source": [
        "----\n",
        "#### 🐸 ChatGPT에서 chrome 브라우저 제어하는 예제요청\n",
        "> 화면 스크롤 및 클릭을 통해서도 가져와야 하는 정보가 있을 경우, 자동화 솔루션을 사용해야 한다. \n",
        "\n",
        "Person: \n",
        "- python에서 chrome 브라우저를 제어하는 예제를 보여주세요\n",
        "\n",
        "ChatGPT: \n",
        "- Python에서 Chrome 브라우저를 제어하기 위해 \"selenium\" 라이브러리를 사용할 수 있습니다. Selenium은 웹 애플리케이션 테스트를 자동화하는 도구로, 웹 브라우저를 제어하고 사용자의 동작을 시뮬레이트할 수 있습니다. 다음은 Python에서 Selenium을 사용하여 Chrome 브라우저를 제어하는 간단한 예제입니다.\n",
        "\n",
        "먼저, `selenium` 패키지를 설치해야 합니다. 다음 명령을 사용하여 설치할 수 있습니다:\n",
        "\n",
        "```python\n",
        "\n",
        "pip install selenium\n",
        "```\n",
        "\n",
        "\n",
        "\n",
        "다음으로, Selenium이 Chrome 브라우저를 제어하기 위해 Chrome WebDriver를 사용하므로, Chrome WebDriver를 다운로드하여 설치해야 합니다. Chrome WebDriver는 Chrome 브라우저 버전과 호환되는 버전을 선택하여 다운로드해야 합니다. Chrome WebDriver는 다음 링크에서 다운로드할 수 있습니다: [https://sites.google.com/a/chromium.org/chromedriver/downloads](https://sites.google.com/a/chromium.org/chromedriver/downloads) \n",
        "\n",
        "Chrome WebDriver를 다운로드한 후, 다음은 Chrome 브라우저를 열고 웹페이지를 방문하는 간단한 예제입니다:\n",
        "\n",
        "```python\n",
        "\n",
        "from selenium import webdriver\n",
        "\n",
        "# Chrome WebDriver의 경로를 지정합니다.\n",
        "webdriver_path = 'Chrome WebDriver의 경로'\n",
        "\n",
        "# Chrome WebDriver를 생성합니다.\n",
        "driver = webdriver.Chrome(executable_path=webdriver_path)\n",
        "\n",
        "# Google 홈페이지를 방문합니다.\n",
        "driver.get('https://www.google.com')\n",
        "\n",
        "# 브라우저를 닫습니다.\n",
        "driver.quit()\n",
        "```\n",
        "\n",
        "\n",
        "\n",
        "위의 예제에서 `'Chrome WebDriver의 경로'` 부분을 다운로드한 Chrome WebDriver의 실제 경로로 변경해야 합니다. 이제 위의 예제를 실행하면 Chrome 브라우저가 열리고 Google 홈페이지를 방문한 후에 브라우저가 닫힙니다.\n",
        "\n",
        "이 예제를 확장하여 Chrome 브라우저에서 클릭, 텍스트 입력, 요소 검색 등 다양한 작업을 수행할 수 있습니다. Selenium의 자세한 사용법은 Selenium 공식 문서를 참조하시기 바랍니다.\n",
        "\n",
        "\n",
        "Person: \n",
        "- 1. chrome 드라이버를 소스가 존재하는 경로에 저장했습니다. \n",
        "2. www.google.com에 가서 \"Vintage appMaker\"를 검색합니다. \n",
        "3. 결과 화면을 capture.png로 저장합니다. \n",
        "소스를 만들어주세요\n",
        "\n",
        "ChatGPT: \n",
        "- 아래의 코드는 Python에서 Selenium을 사용하여 Chrome 브라우저를 제어하여 Google 검색을 수행하고 결과 화면을 capture.png로 저장하는 예제입니다.\n",
        "\n",
        "```python\n",
        "\n",
        "from selenium import webdriver\n",
        "\n",
        "# Chrome WebDriver의 경로를 지정합니다.\n",
        "webdriver_path = 'Chrome WebDriver의 경로'\n",
        "\n",
        "# Chrome WebDriver를 생성합니다.\n",
        "driver = webdriver.Chrome(executable_path=webdriver_path)\n",
        "\n",
        "# Google 홈페이지를 방문합니다.\n",
        "driver.get('https://www.google.com')\n",
        "\n",
        "# 검색어를 입력합니다.\n",
        "search_box = driver.find_element_by_name('q')\n",
        "search_box.send_keys('Vintage appMaker')\n",
        "\n",
        "# 검색 버튼을 클릭합니다.\n",
        "search_button = driver.find_element_by_name('btnK')\n",
        "search_button.click()\n",
        "\n",
        "# 결과 화면을 캡처하여 capture.png로 저장합니다.\n",
        "driver.save_screenshot('capture.png')\n",
        "\n",
        "# 브라우저를 닫습니다.\n",
        "driver.quit()\n",
        "```\n",
        "\n",
        "위의 코드에서 `'Chrome WebDriver의 경로'` 부분을 다운로드한 Chrome WebDriver의 실제 경로로 변경해야 합니다. 그리고 코드를 실행하면 Chrome 브라우저가 열리고 Google 검색을 수행한 후에 결과 화면이 capture.png로 저장됩니다.\n",
        "\n",
        "이 코드를 실행하려면 Selenium 패키지가 설치되어 있어야 합니다. 설치되어 있지 않은 경우에는 `pip install selenium` 명령으로 설치할 수 있습니다.\n",
        "\n",
        "Person: \n",
        "- find_element_by_name이 없다고 합니다. 다른 메소드를 사용해야 하나요?\n",
        "\n",
        "ChatGPT: \n",
        "- `find_element_by_name` 메서드는 요소의 `name` 속성을 사용하여 요소를 찾는 메서드입니다. 그러나 Google 검색 버튼은 `name` 속성이 없는 경우도 있을 수 있습니다.\n",
        "\n",
        "대신에 `find_element_by_xpath` 메서드를 사용하여 요소를 찾을 수 있습니다. XPath는 요소의 위치를 지정하는 경로 언어입니다. 다음은 XPath를 사용하여 검색어 입력란과 검색 버튼을 찾는 예제입니다:\n",
        "\n",
        "```python\n",
        "\n",
        "from selenium import webdriver\n",
        "\n",
        "# Chrome WebDriver의 경로를 지정합니다.\n",
        "webdriver_path = 'Chrome WebDriver의 경로'\n",
        "\n",
        "# Chrome WebDriver를 생성합니다.\n",
        "driver = webdriver.Chrome(executable_path=webdriver_path)\n",
        "\n",
        "# Google 홈페이지를 방문합니다.\n",
        "driver.get('https://www.google.com')\n",
        "\n",
        "# 검색어를 입력합니다.\n",
        "search_box = driver.find_element_by_xpath('//input[@name=\"q\"]')\n",
        "search_box.send_keys('Vintage appMaker')\n",
        "\n",
        "# 검색 버튼을 클릭합니다.\n",
        "search_button = driver.find_element_by_xpath('//button[@name=\"btnK\"]')\n",
        "search_button.click()\n",
        "\n",
        "# 결과 화면을 캡처하여 capture.png로 저장합니다.\n",
        "driver.save_screenshot('capture.png')\n",
        "\n",
        "# 브라우저를 닫습니다.\n",
        "driver.quit()\n",
        "```\n",
        "\n",
        "위의 코드에서 XPath 식 `//input[@name=\"q\"]`는 `name` 속성이 \"q\"인 `<input>` 요소를 찾습니다. `//button[@name=\"btnK\"]`는 `name` 속성이 \"btnK\"인 `<button>` 요소를 찾습니다. 이렇게 수정된 코드를 실행하면 요소를 정확하게 찾아서 Google 검색을 수행할 수 있습니다.\n"
      ],
      "metadata": {
        "id": "uKILiUXfeFEI"
      }
    }
  ]
}